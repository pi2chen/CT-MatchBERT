{
 "cells": [
  {
   "cell_type": "code",
   "execution_count": 3,
   "metadata": {},
   "outputs": [
    {
     "name": "stdout",
     "output_type": "stream",
     "text": [
      "Filtered rows saved to patient_data.csv\n"
     ]
    }
   ],
   "source": [
    "import csv\n",
    "\n",
    "def keep_every_50th_row(input_file, output_file):\n",
    "    \"\"\"\n",
    "    Keeps only every 50th row from the input CSV file and writes it to the output CSV file.\n",
    "    \"\"\"\n",
    "    try:\n",
    "        with open(input_file, 'r') as infile, open(output_file, 'w', newline='') as outfile:\n",
    "            reader = csv.reader(infile)\n",
    "            writer = csv.writer(outfile)\n",
    "            \n",
    "            # Write header row if present\n",
    "            header = next(reader, None)\n",
    "            if header:\n",
    "                writer.writerow(header)\n",
    "\n",
    "            # Write every 50th row\n",
    "            for index, row in enumerate(reader, start=1):\n",
    "                if index % 50 == 0:\n",
    "                    writer.writerow(row)\n",
    "        print(f\"Filtered rows saved to {output_file}\")\n",
    "    except FileNotFoundError:\n",
    "        print(f\"File not found: {input_file}\")\n",
    "    except Exception as e:\n",
    "        print(f\"An error occurred: {e}\")\n",
    "\n",
    "# Example usage\n",
    "input_csv = 'D_ICD_DIAGNOSES.csv'  # Replace with your input file path\n",
    "output_csv = 'patient_data.csv'  # Replace with your desired output file path\n",
    "keep_every_50th_row(input_csv, output_csv)\n"
   ]
  }
 ],
 "metadata": {
  "kernelspec": {
   "display_name": "Python 3",
   "language": "python",
   "name": "python3"
  },
  "language_info": {
   "codemirror_mode": {
    "name": "ipython",
    "version": 3
   },
   "file_extension": ".py",
   "mimetype": "text/x-python",
   "name": "python",
   "nbconvert_exporter": "python",
   "pygments_lexer": "ipython3",
   "version": "3.11.9"
  }
 },
 "nbformat": 4,
 "nbformat_minor": 2
}
